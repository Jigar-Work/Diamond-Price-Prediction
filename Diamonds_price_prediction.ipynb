{
 "cells": [
  {
   "cell_type": "code",
   "execution_count": 68,
   "id": "67581670",
   "metadata": {},
   "outputs": [],
   "source": [
    "import numpy as np\n",
    "import pandas as pd\n",
    "from sklearn.model_selection import train_test_split,cross_validate,GridSearchCV\n",
    "from sklearn.preprocessing import StandardScaler,OneHotEncoder,OrdinalEncoder,MinMaxScaler\n",
    "from sklearn.compose import make_column_transformer\n",
    "from sklearn.pipeline import make_pipeline,Pipeline\n",
    "from xgboost import XGBRegressor \n",
    "from sklearn.ensemble import RandomForestRegressor\n",
    "from sklearn.metrics import mean_absolute_error,mean_squared_error,median_absolute_error,mean_squared_log_error,r2_score,explained_variance_score\n",
    "import matplotlib.pyplot as plt\n",
    "import seaborn as sns\n",
    "from sklearn.linear_model import LinearRegression"
   ]
  },
  {
   "cell_type": "code",
   "execution_count": 30,
   "id": "2385007d",
   "metadata": {},
   "outputs": [
    {
     "data": {
      "text/html": [
       "<div>\n",
       "<style scoped>\n",
       "    .dataframe tbody tr th:only-of-type {\n",
       "        vertical-align: middle;\n",
       "    }\n",
       "\n",
       "    .dataframe tbody tr th {\n",
       "        vertical-align: top;\n",
       "    }\n",
       "\n",
       "    .dataframe thead th {\n",
       "        text-align: right;\n",
       "    }\n",
       "</style>\n",
       "<table border=\"1\" class=\"dataframe\">\n",
       "  <thead>\n",
       "    <tr style=\"text-align: right;\">\n",
       "      <th></th>\n",
       "      <th>rownames</th>\n",
       "      <th>carat</th>\n",
       "      <th>cut</th>\n",
       "      <th>color</th>\n",
       "      <th>clarity</th>\n",
       "      <th>depth</th>\n",
       "      <th>table</th>\n",
       "      <th>price</th>\n",
       "      <th>x</th>\n",
       "      <th>y</th>\n",
       "      <th>z</th>\n",
       "    </tr>\n",
       "  </thead>\n",
       "  <tbody>\n",
       "    <tr>\n",
       "      <th>0</th>\n",
       "      <td>1</td>\n",
       "      <td>0.23</td>\n",
       "      <td>Ideal</td>\n",
       "      <td>E</td>\n",
       "      <td>SI2</td>\n",
       "      <td>61.5</td>\n",
       "      <td>55.0</td>\n",
       "      <td>326</td>\n",
       "      <td>3.95</td>\n",
       "      <td>3.98</td>\n",
       "      <td>2.43</td>\n",
       "    </tr>\n",
       "    <tr>\n",
       "      <th>1</th>\n",
       "      <td>2</td>\n",
       "      <td>0.21</td>\n",
       "      <td>Premium</td>\n",
       "      <td>E</td>\n",
       "      <td>SI1</td>\n",
       "      <td>59.8</td>\n",
       "      <td>61.0</td>\n",
       "      <td>326</td>\n",
       "      <td>3.89</td>\n",
       "      <td>3.84</td>\n",
       "      <td>2.31</td>\n",
       "    </tr>\n",
       "    <tr>\n",
       "      <th>2</th>\n",
       "      <td>3</td>\n",
       "      <td>0.23</td>\n",
       "      <td>Good</td>\n",
       "      <td>E</td>\n",
       "      <td>VS1</td>\n",
       "      <td>56.9</td>\n",
       "      <td>65.0</td>\n",
       "      <td>327</td>\n",
       "      <td>4.05</td>\n",
       "      <td>4.07</td>\n",
       "      <td>2.31</td>\n",
       "    </tr>\n",
       "    <tr>\n",
       "      <th>3</th>\n",
       "      <td>4</td>\n",
       "      <td>0.29</td>\n",
       "      <td>Premium</td>\n",
       "      <td>I</td>\n",
       "      <td>VS2</td>\n",
       "      <td>62.4</td>\n",
       "      <td>58.0</td>\n",
       "      <td>334</td>\n",
       "      <td>4.20</td>\n",
       "      <td>4.23</td>\n",
       "      <td>2.63</td>\n",
       "    </tr>\n",
       "    <tr>\n",
       "      <th>4</th>\n",
       "      <td>5</td>\n",
       "      <td>0.31</td>\n",
       "      <td>Good</td>\n",
       "      <td>J</td>\n",
       "      <td>SI2</td>\n",
       "      <td>63.3</td>\n",
       "      <td>58.0</td>\n",
       "      <td>335</td>\n",
       "      <td>4.34</td>\n",
       "      <td>4.35</td>\n",
       "      <td>2.75</td>\n",
       "    </tr>\n",
       "  </tbody>\n",
       "</table>\n",
       "</div>"
      ],
      "text/plain": [
       "   rownames  carat      cut color clarity  depth  table  price     x     y     z\n",
       "0         1   0.23    Ideal     E     SI2   61.5   55.0    326  3.95  3.98  2.43\n",
       "1         2   0.21  Premium     E     SI1   59.8   61.0    326  3.89  3.84  2.31\n",
       "2         3   0.23     Good     E     VS1   56.9   65.0    327  4.05  4.07  2.31\n",
       "3         4   0.29  Premium     I     VS2   62.4   58.0    334  4.20  4.23  2.63\n",
       "4         5   0.31     Good     J     SI2   63.3   58.0    335  4.34  4.35  2.75"
      ]
     },
     "execution_count": 30,
     "metadata": {},
     "output_type": "execute_result"
    }
   ],
   "source": [
    "data = pd.read_csv('diamonds.csv')\n",
    "data1 = data.copy()\n",
    "data.head()"
   ]
  },
  {
   "cell_type": "code",
   "execution_count": 31,
   "id": "3a18512e",
   "metadata": {},
   "outputs": [
    {
     "name": "stdout",
     "output_type": "stream",
     "text": [
      "<class 'pandas.core.frame.DataFrame'>\n",
      "RangeIndex: 53940 entries, 0 to 53939\n",
      "Data columns (total 11 columns):\n",
      " #   Column    Non-Null Count  Dtype  \n",
      "---  ------    --------------  -----  \n",
      " 0   rownames  53940 non-null  int64  \n",
      " 1   carat     53940 non-null  float64\n",
      " 2   cut       53940 non-null  object \n",
      " 3   color     53940 non-null  object \n",
      " 4   clarity   53940 non-null  object \n",
      " 5   depth     53940 non-null  float64\n",
      " 6   table     53940 non-null  float64\n",
      " 7   price     53940 non-null  int64  \n",
      " 8   x         53940 non-null  float64\n",
      " 9   y         53940 non-null  float64\n",
      " 10  z         53940 non-null  float64\n",
      "dtypes: float64(6), int64(2), object(3)\n",
      "memory usage: 4.5+ MB\n"
     ]
    }
   ],
   "source": [
    "data.info()"
   ]
  },
  {
   "cell_type": "code",
   "execution_count": 32,
   "id": "b2248cfc",
   "metadata": {},
   "outputs": [],
   "source": [
    "# def R_column_extraction(data,threshold):\n",
    "#     column = set()\n",
    "#     cor_metrics = data.corr()\n",
    "#     for i in range(len(data.columns)):\n",
    "#         for j in range(i):\n",
    "#             if abs(cor_metrics.iloc[i,j]) > threshold:\n",
    "#                 result = data.columns[i]\n",
    "#                 column.add(result)\n",
    "#     return column\n",
    "# R_column_extraction(data[numerical_features],0.8)"
   ]
  },
  {
   "cell_type": "code",
   "execution_count": 34,
   "id": "2947c011",
   "metadata": {},
   "outputs": [],
   "source": [
    "data = data.drop(columns=['rownames'])"
   ]
  },
  {
   "cell_type": "code",
   "execution_count": 35,
   "id": "e48879e3",
   "metadata": {},
   "outputs": [],
   "source": [
    "numerical_features = data.describe().columns\n",
    "categorical_features = [ col for col in data.columns if data[col].dtype in ['O']]\n",
    "categorical_features1 = [ i for i in data.columns if i not in numerical_features]"
   ]
  },
  {
   "cell_type": "code",
   "execution_count": 38,
   "id": "2719f48c",
   "metadata": {},
   "outputs": [],
   "source": [
    "ordinal_features = categorical_features"
   ]
  },
  {
   "cell_type": "code",
   "execution_count": 36,
   "id": "4719db93",
   "metadata": {},
   "outputs": [],
   "source": [
    "cut_map = {\"Fair\":0, \"Good\":1, \"Very Good\":2, \"Premium\":3, \"Ideal\":4}\n",
    "color_map = {\"D\":6, \"E\":5, \"F\":4, \"G\":3, \"H\":2, \"I\":1, \"J\":0}\n",
    "clarity_map = {\"IF\":7, \"VVS1\":6, \"VVS2\":5, \"VS1\":4, \"VS2\":3, \"SI1\":2, \"SI2\":1, \"I1\":0}\n",
    "\n",
    "data['cut'] = data['cut'].map(cut_map)\n",
    "data['color'] = data['color'].map(color_map)\n",
    "data['clarity'] = data['clarity'].map(clarity_map)"
   ]
  },
  {
   "cell_type": "code",
   "execution_count": 41,
   "id": "aaae00c1",
   "metadata": {},
   "outputs": [],
   "source": [
    "x,y = data.drop(columns=['price']),data['price']\n",
    "x_train,x_test,y_train,y_test = train_test_split(x,y,test_size=0.25,random_state=142)"
   ]
  },
  {
   "cell_type": "code",
   "execution_count": 50,
   "id": "9cf7e05b",
   "metadata": {},
   "outputs": [],
   "source": [
    "num = x.columns\n",
    "scalar = make_pipeline(MinMaxScaler())\n",
    "preprocessors = make_column_transformer((scalar,num),remainder='passthrough')\n",
    "lr = make_pipeline(preprocessors,LinearRegression(n_jobs=-1))\n",
    "xgb = XGBRegressor()"
   ]
  },
  {
   "cell_type": "code",
   "execution_count": 62,
   "id": "5523bb7f",
   "metadata": {},
   "outputs": [
    {
     "data": {
      "text/plain": [
       "Pipeline(steps=[('columntransformer',\n",
       "                 ColumnTransformer(remainder='passthrough',\n",
       "                                   transformers=[('pipeline',\n",
       "                                                  Pipeline(steps=[('minmaxscaler',\n",
       "                                                                   MinMaxScaler())]),\n",
       "                                                  Index(['carat', 'cut', 'color', 'clarity', 'depth', 'table', 'x', 'y', 'z'], dtype='object'))])),\n",
       "                ('linearregression', LinearRegression(n_jobs=-1))])"
      ]
     },
     "execution_count": 62,
     "metadata": {},
     "output_type": "execute_result"
    }
   ],
   "source": [
    "# LinearRegression \n",
    "lr.fit(x_train,y_train)\n",
    "lr"
   ]
  },
  {
   "cell_type": "code",
   "execution_count": 63,
   "id": "15de7bc4",
   "metadata": {},
   "outputs": [],
   "source": [
    "lr_pred = lr.predict(x_test)"
   ]
  },
  {
   "cell_type": "code",
   "execution_count": 64,
   "id": "7a54ec08",
   "metadata": {},
   "outputs": [
    {
     "data": {
      "text/plain": [
       "1527757.338535055"
      ]
     },
     "execution_count": 64,
     "metadata": {},
     "output_type": "execute_result"
    }
   ],
   "source": [
    "# prone to outlier (mean_squared_error may not work well here, you need check your domain knowledge)\n",
    "lr_mse = mean_squared_error(y_test,lr_pred)\n",
    "mse"
   ]
  },
  {
   "cell_type": "code",
   "execution_count": 75,
   "id": "361d99a0",
   "metadata": {},
   "outputs": [
    {
     "name": "stdout",
     "output_type": "stream",
     "text": [
      "Mean Squared Error:1527757.34\n",
      "Mean Absolute Error: 804.22\n",
      "\n",
      "R2 Score: 0.91\n",
      "Median Absolute Error: 571.11\n",
      "\n",
      "Explained Variance Score: 0.91\n",
      "\n"
     ]
    }
   ],
   "source": [
    "lr_mae = mean_absolute_error(y_test,lr_pred)\n",
    "lr_r2 = r2_score(y_test, lr_pred)\n",
    "lr_medae = median_absolute_error(y_test, lr_pred)\n",
    "lr_evs = explained_variance_score(y_test, lr_pred)\n",
    "# lr_mlse = mean_squared_log_error(y_test, lr_pred)\n",
    "# print('Mean Squared Log Error: {round(lr_mlse,4)}')\n",
    "\n",
    "print(f\"\"\"Mean Squared Error:{round(lr_mse,2)}\\nMean Absolute Error: {round(lr_mae,2)}\n",
    "\\nR2 Score: {round(lr_r2,2)}\\nMedian Absolute Error: {round(lr_medae,2)}\n",
    "\\nExplained Variance Score: {round(lr_evs,2)}\n",
    "\"\"\")\n"
   ]
  },
  {
   "cell_type": "code",
   "execution_count": 65,
   "id": "ffc1197c",
   "metadata": {},
   "outputs": [
    {
     "name": "stderr",
     "output_type": "stream",
     "text": [
      "C:\\Users\\Janvi\\anaconda3\\lib\\site-packages\\xgboost\\data.py:250: FutureWarning: pandas.Int64Index is deprecated and will be removed from pandas in a future version. Use pandas.Index with the appropriate dtype instead.\n",
      "  elif isinstance(data.columns, (pd.Int64Index, pd.RangeIndex)):\n"
     ]
    }
   ],
   "source": [
    "\n",
    "xgb.fit(x_train,y_train)\n",
    "xgb_pred = xgb.predict(x_test)"
   ]
  },
  {
   "cell_type": "code",
   "execution_count": 71,
   "id": "8149546f",
   "metadata": {},
   "outputs": [
    {
     "name": "stdout",
     "output_type": "stream",
     "text": [
      "Mean Squared Error:295734.23\n",
      "\n",
      "Mean Absolute Error: 273.22\n",
      "R2 Score: 0.98\n",
      "\n",
      "Median Absolute Error: 106.73\n",
      "Explained Variance Score: 0.98\n",
      "\n",
      "Mean Squared Log Error: 0.0089\n"
     ]
    }
   ],
   "source": [
    "x_mse = mean_squared_error(y_test, xgb_pred)\n",
    "x_mae = mean_absolute_error(y_test, xgb_pred)\n",
    "x_r2 = r2_score(y_test, xgb_pred)\n",
    "x_medae = median_absolute_error(y_test, xgb_pred)\n",
    "x_evs = explained_variance_score(y_test, xgb_pred)\n",
    "x_mlse = mean_squared_log_error(y_test, xgb_pred)\n",
    "\n",
    "print(f\"\"\"Mean Squared Error:{round(x_mse,2)}\n",
    "\\nMean Absolute Error: {round(x_mae,2)}\\nR2 Score: {round(x_r2,2)}\n",
    "\\nMedian Absolute Error: {round(x_medae,2)}\\nExplained Variance Score: {round(x_evs,2)}\n",
    "\\nMean Squared Log Error: {round(x_mlse,4)}\"\"\")"
   ]
  }
 ],
 "metadata": {
  "kernelspec": {
   "display_name": "Python 3 (ipykernel)",
   "language": "python",
   "name": "python3"
  },
  "language_info": {
   "codemirror_mode": {
    "name": "ipython",
    "version": 3
   },
   "file_extension": ".py",
   "mimetype": "text/x-python",
   "name": "python",
   "nbconvert_exporter": "python",
   "pygments_lexer": "ipython3",
   "version": "3.9.13"
  }
 },
 "nbformat": 4,
 "nbformat_minor": 5
}
